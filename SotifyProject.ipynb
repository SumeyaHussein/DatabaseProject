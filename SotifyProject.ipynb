{
  "nbformat": 4,
  "nbformat_minor": 0,
  "metadata": {
    "colab": {
      "provenance": [],
      "authorship_tag": "ABX9TyP9+xrjs24fVxSMlEXdQvyH",
      "include_colab_link": true
    },
    "kernelspec": {
      "name": "python3",
      "display_name": "Python 3"
    },
    "language_info": {
      "name": "python"
    }
  },
  "cells": [
    {
      "cell_type": "markdown",
      "metadata": {
        "id": "view-in-github",
        "colab_type": "text"
      },
      "source": [
        "<a href=\"https://colab.research.google.com/github/SumeyaHussein/DatabaseProject/blob/main/SotifyProject.ipynb\" target=\"_parent\"><img src=\"https://colab.research.google.com/assets/colab-badge.svg\" alt=\"Open In Colab\"/></a>"
      ]
    },
    {
      "cell_type": "code",
      "execution_count": null,
      "metadata": {
        "id": "f9fc1or1zPvc"
      },
      "outputs": [],
      "source": [
        "#install kaggle\n",
        "!pip install -q kaggle"
      ]
    },
    {
      "cell_type": "code",
      "source": [
        "from google.colab import files\n",
        "files.upload()"
      ],
      "metadata": {
        "colab": {
          "base_uri": "https://localhost:8080/",
          "height": 109
        },
        "id": "KEQkMcQjzpDH",
        "outputId": "35e3f6e2-fa07-40f1-bb55-9a4a14a85b6f"
      },
      "execution_count": null,
      "outputs": [
        {
          "output_type": "display_data",
          "data": {
            "text/plain": [
              "<IPython.core.display.HTML object>"
            ],
            "text/html": [
              "\n",
              "     <input type=\"file\" id=\"files-ef24d722-33cb-4ccf-8e1b-0e9e5787c1f4\" name=\"files[]\" multiple disabled\n",
              "        style=\"border:none\" />\n",
              "     <output id=\"result-ef24d722-33cb-4ccf-8e1b-0e9e5787c1f4\">\n",
              "      Upload widget is only available when the cell has been executed in the\n",
              "      current browser session. Please rerun this cell to enable.\n",
              "      </output>\n",
              "      <script>// Copyright 2017 Google LLC\n",
              "//\n",
              "// Licensed under the Apache License, Version 2.0 (the \"License\");\n",
              "// you may not use this file except in compliance with the License.\n",
              "// You may obtain a copy of the License at\n",
              "//\n",
              "//      http://www.apache.org/licenses/LICENSE-2.0\n",
              "//\n",
              "// Unless required by applicable law or agreed to in writing, software\n",
              "// distributed under the License is distributed on an \"AS IS\" BASIS,\n",
              "// WITHOUT WARRANTIES OR CONDITIONS OF ANY KIND, either express or implied.\n",
              "// See the License for the specific language governing permissions and\n",
              "// limitations under the License.\n",
              "\n",
              "/**\n",
              " * @fileoverview Helpers for google.colab Python module.\n",
              " */\n",
              "(function(scope) {\n",
              "function span(text, styleAttributes = {}) {\n",
              "  const element = document.createElement('span');\n",
              "  element.textContent = text;\n",
              "  for (const key of Object.keys(styleAttributes)) {\n",
              "    element.style[key] = styleAttributes[key];\n",
              "  }\n",
              "  return element;\n",
              "}\n",
              "\n",
              "// Max number of bytes which will be uploaded at a time.\n",
              "const MAX_PAYLOAD_SIZE = 100 * 1024;\n",
              "\n",
              "function _uploadFiles(inputId, outputId) {\n",
              "  const steps = uploadFilesStep(inputId, outputId);\n",
              "  const outputElement = document.getElementById(outputId);\n",
              "  // Cache steps on the outputElement to make it available for the next call\n",
              "  // to uploadFilesContinue from Python.\n",
              "  outputElement.steps = steps;\n",
              "\n",
              "  return _uploadFilesContinue(outputId);\n",
              "}\n",
              "\n",
              "// This is roughly an async generator (not supported in the browser yet),\n",
              "// where there are multiple asynchronous steps and the Python side is going\n",
              "// to poll for completion of each step.\n",
              "// This uses a Promise to block the python side on completion of each step,\n",
              "// then passes the result of the previous step as the input to the next step.\n",
              "function _uploadFilesContinue(outputId) {\n",
              "  const outputElement = document.getElementById(outputId);\n",
              "  const steps = outputElement.steps;\n",
              "\n",
              "  const next = steps.next(outputElement.lastPromiseValue);\n",
              "  return Promise.resolve(next.value.promise).then((value) => {\n",
              "    // Cache the last promise value to make it available to the next\n",
              "    // step of the generator.\n",
              "    outputElement.lastPromiseValue = value;\n",
              "    return next.value.response;\n",
              "  });\n",
              "}\n",
              "\n",
              "/**\n",
              " * Generator function which is called between each async step of the upload\n",
              " * process.\n",
              " * @param {string} inputId Element ID of the input file picker element.\n",
              " * @param {string} outputId Element ID of the output display.\n",
              " * @return {!Iterable<!Object>} Iterable of next steps.\n",
              " */\n",
              "function* uploadFilesStep(inputId, outputId) {\n",
              "  const inputElement = document.getElementById(inputId);\n",
              "  inputElement.disabled = false;\n",
              "\n",
              "  const outputElement = document.getElementById(outputId);\n",
              "  outputElement.innerHTML = '';\n",
              "\n",
              "  const pickedPromise = new Promise((resolve) => {\n",
              "    inputElement.addEventListener('change', (e) => {\n",
              "      resolve(e.target.files);\n",
              "    });\n",
              "  });\n",
              "\n",
              "  const cancel = document.createElement('button');\n",
              "  inputElement.parentElement.appendChild(cancel);\n",
              "  cancel.textContent = 'Cancel upload';\n",
              "  const cancelPromise = new Promise((resolve) => {\n",
              "    cancel.onclick = () => {\n",
              "      resolve(null);\n",
              "    };\n",
              "  });\n",
              "\n",
              "  // Wait for the user to pick the files.\n",
              "  const files = yield {\n",
              "    promise: Promise.race([pickedPromise, cancelPromise]),\n",
              "    response: {\n",
              "      action: 'starting',\n",
              "    }\n",
              "  };\n",
              "\n",
              "  cancel.remove();\n",
              "\n",
              "  // Disable the input element since further picks are not allowed.\n",
              "  inputElement.disabled = true;\n",
              "\n",
              "  if (!files) {\n",
              "    return {\n",
              "      response: {\n",
              "        action: 'complete',\n",
              "      }\n",
              "    };\n",
              "  }\n",
              "\n",
              "  for (const file of files) {\n",
              "    const li = document.createElement('li');\n",
              "    li.append(span(file.name, {fontWeight: 'bold'}));\n",
              "    li.append(span(\n",
              "        `(${file.type || 'n/a'}) - ${file.size} bytes, ` +\n",
              "        `last modified: ${\n",
              "            file.lastModifiedDate ? file.lastModifiedDate.toLocaleDateString() :\n",
              "                                    'n/a'} - `));\n",
              "    const percent = span('0% done');\n",
              "    li.appendChild(percent);\n",
              "\n",
              "    outputElement.appendChild(li);\n",
              "\n",
              "    const fileDataPromise = new Promise((resolve) => {\n",
              "      const reader = new FileReader();\n",
              "      reader.onload = (e) => {\n",
              "        resolve(e.target.result);\n",
              "      };\n",
              "      reader.readAsArrayBuffer(file);\n",
              "    });\n",
              "    // Wait for the data to be ready.\n",
              "    let fileData = yield {\n",
              "      promise: fileDataPromise,\n",
              "      response: {\n",
              "        action: 'continue',\n",
              "      }\n",
              "    };\n",
              "\n",
              "    // Use a chunked sending to avoid message size limits. See b/62115660.\n",
              "    let position = 0;\n",
              "    do {\n",
              "      const length = Math.min(fileData.byteLength - position, MAX_PAYLOAD_SIZE);\n",
              "      const chunk = new Uint8Array(fileData, position, length);\n",
              "      position += length;\n",
              "\n",
              "      const base64 = btoa(String.fromCharCode.apply(null, chunk));\n",
              "      yield {\n",
              "        response: {\n",
              "          action: 'append',\n",
              "          file: file.name,\n",
              "          data: base64,\n",
              "        },\n",
              "      };\n",
              "\n",
              "      let percentDone = fileData.byteLength === 0 ?\n",
              "          100 :\n",
              "          Math.round((position / fileData.byteLength) * 100);\n",
              "      percent.textContent = `${percentDone}% done`;\n",
              "\n",
              "    } while (position < fileData.byteLength);\n",
              "  }\n",
              "\n",
              "  // All done.\n",
              "  yield {\n",
              "    response: {\n",
              "      action: 'complete',\n",
              "    }\n",
              "  };\n",
              "}\n",
              "\n",
              "scope.google = scope.google || {};\n",
              "scope.google.colab = scope.google.colab || {};\n",
              "scope.google.colab._files = {\n",
              "  _uploadFiles,\n",
              "  _uploadFilesContinue,\n",
              "};\n",
              "})(self);\n",
              "</script> "
            ]
          },
          "metadata": {}
        },
        {
          "output_type": "stream",
          "name": "stdout",
          "text": [
            "Saving kaggle.json to kaggle.json\n"
          ]
        },
        {
          "output_type": "execute_result",
          "data": {
            "text/plain": [
              "{'kaggle.json': b'{\"username\":\"sumeyahussein\",\"key\":\"cd9b98b4e1e773fd9e60d955bf542510\"}'}"
            ]
          },
          "metadata": {},
          "execution_count": 2
        }
      ]
    },
    {
      "cell_type": "code",
      "source": [
        "#create a kaggle folder\n",
        "! mkdir ~/.kaggle/"
      ],
      "metadata": {
        "id": "zYZzo9gC0dOC"
      },
      "execution_count": null,
      "outputs": []
    },
    {
      "cell_type": "code",
      "source": [
        "#copy the kaggle.json to folder created\n",
        "! cp kaggle.json ~/.kaggle/"
      ],
      "metadata": {
        "id": "C5QX4C3Q0qkH"
      },
      "execution_count": null,
      "outputs": []
    },
    {
      "cell_type": "code",
      "source": [
        "#permission for the json to act\n",
        "! chmod 600 ~/.kaggle/kaggle.json"
      ],
      "metadata": {
        "id": "FzdUnqH007Mb"
      },
      "execution_count": null,
      "outputs": []
    },
    {
      "cell_type": "code",
      "source": [
        "#list all datset in kaggle\n",
        "! kaggle datasets list"
      ],
      "metadata": {
        "colab": {
          "base_uri": "https://localhost:8080/"
        },
        "id": "g_NKgw9w1M-m",
        "outputId": "c4f80c92-4932-42e9-b040-e01018b966d4"
      },
      "execution_count": null,
      "outputs": [
        {
          "output_type": "stream",
          "name": "stdout",
          "text": [
            "ref                                                         title                                             size  lastUpdated          downloadCount  voteCount  usabilityRating  \n",
            "----------------------------------------------------------  -----------------------------------------------  -----  -------------------  -------------  ---------  ---------------  \n",
            "iamsouravbanerjee/customer-shopping-trends-dataset          Customer Shopping Trends Dataset                 146KB  2023-10-05 06:45:37          22181        460  1.0              \n",
            "samyakb/student-stress-factors                              Student stress factors                            887B  2023-11-02 12:42:11           2558         57  0.9411765        \n",
            "nelgiriyewithana/billionaires-statistics-dataset            Billionaires Statistics Dataset (2023)           139KB  2023-09-29 13:39:28          12222        295  1.0              \n",
            "joebeachcapital/30000-spotify-songs                         30000 Spotify Songs                                3MB  2023-11-01 06:06:43           2253         56  1.0              \n",
            "prasad22/healthcare-dataset                                 Healthcare Dataset                               483KB  2023-10-31 11:30:58           1658         34  1.0              \n",
            "rajatkumar30/fake-news                                      Fake News Prediction Dataset                      11MB  2023-11-03 17:26:38            777         30  1.0              \n",
            "nelgiriyewithana/world-educational-data                     World Educational Data                             9KB  2023-11-04 06:10:17           1559         46  1.0              \n",
            "purusinghvi/email-spam-classification-dataset               Spam Email Classification Dataset                 43MB  2023-11-06 10:43:38            503         24  1.0              \n",
            "thedrcat/daigt-proper-train-dataset                         DAIGT Proper Train Dataset                       119MB  2023-11-05 14:03:25            413         73  1.0              \n",
            "rajatkumar30/streaming-application-viewership               Streaming Application                            471KB  2023-10-20 22:12:06            796         23  1.0              \n",
            "rajatsurana979/fast-food-sales-report                       Restaurant Sales report                          122KB  2023-11-06 20:46:39           1352         38  1.0              \n",
            "zeesolver/consumer-behavior-and-shopping-habits-dataset     Consumer Behavior and Shopping Habits Dataset:   146KB  2023-10-19 13:36:26           4311         65  1.0              \n",
            "adeolaadesina/factors-affecting-children-anemia-level       Factors Affecting Children Anemia Level          258KB  2023-10-26 13:13:02           1362         26  1.0              \n",
            "sujaykapadnis/hollywood-hits-and-flops-2007-2023            Hollywood Hits and Flops [2007 - 2023]           204KB  2023-10-26 13:04:38           1298         34  1.0              \n",
            "youssefaboelwafa/clustering-penguins-species                Clustering Penguins Species                        3KB  2023-10-31 21:22:14            548         21  1.0              \n",
            "anshika2301/hr-analytics-dataset                            HR Analytics Dataset                             209KB  2023-10-27 14:57:47           1293         30  1.0              \n",
            "victorahaji/worlds-air-quality-and-water-pollution-dataset  World's Air Quality and Water Pollution Dataset   58KB  2023-10-30 12:37:47           2271         46  0.9411765        \n",
            "ishmaelkiptoo/motor-vehicle-collisions                      New York Motor Vehicle Collisions                 80MB  2023-10-26 05:39:06            577         22  1.0              \n",
            "mahmoudshogaa/us-crime-rates-1960-2014                      US_Crime_Rates_1960_2014                           3KB  2023-10-28 03:50:46           1194         27  1.0              \n",
            "amirmahdiabbootalebi/salary-by-job-title-and-country        Salary by Job Title and Country                   37KB  2023-11-02 06:37:13           1285         34  1.0              \n"
          ]
        }
      ]
    },
    {
      "cell_type": "code",
      "source": [
        "!kaggle datasets download -d nelgiriyewithana/top-spotify-songs-2023"
      ],
      "metadata": {
        "colab": {
          "base_uri": "https://localhost:8080/"
        },
        "id": "OEBbX1gv5h9h",
        "outputId": "0a73599e-0d0d-4afc-99c3-17b682744b3e"
      },
      "execution_count": null,
      "outputs": [
        {
          "output_type": "stream",
          "name": "stdout",
          "text": [
            "Downloading top-spotify-songs-2023.zip to /content\n",
            "\r  0% 0.00/47.1k [00:00<?, ?B/s]\n",
            "\r100% 47.1k/47.1k [00:00<00:00, 77.6MB/s]\n"
          ]
        }
      ]
    },
    {
      "cell_type": "code",
      "source": [
        "!unzip top-spotify-songs-2023.zip"
      ],
      "metadata": {
        "colab": {
          "base_uri": "https://localhost:8080/"
        },
        "id": "x9LPyTZb54i6",
        "outputId": "aa924c0f-eba4-4460-a7ec-f71b2e1ed47a"
      },
      "execution_count": null,
      "outputs": [
        {
          "output_type": "stream",
          "name": "stdout",
          "text": [
            "Archive:  top-spotify-songs-2023.zip\n",
            "  inflating: spotify-2023.csv        \n"
          ]
        }
      ]
    },
    {
      "cell_type": "code",
      "source": [
        "import pandas as pd\n",
        "import matplotlib.pyplot as plt\n",
        "import seaborn as sns\n",
        "import plotly.express as px\n",
        "pd.set_option('display.max_columns', None)\n",
        "\n",
        "import warnings\n",
        "\n",
        "warnings.filterwarnings(\"ignore\")"
      ],
      "metadata": {
        "id": "j5IubINT6lMe"
      },
      "execution_count": null,
      "outputs": []
    },
    {
      "cell_type": "code",
      "source": [
        "df = pd.read_csv(\"spotify-2023.csv\", encoding=\"latin-1\")"
      ],
      "metadata": {
        "id": "t1KwVMGu8TsB"
      },
      "execution_count": null,
      "outputs": []
    },
    {
      "cell_type": "code",
      "source": [
        "categorical_columns = ['track_name', 'artist(s)_name', 'key', 'mode']\n",
        "for col in df.columns:\n",
        "    if col not in categorical_columns and col not in ['streams']:\n",
        "        df[col] = pd.to_numeric(df[col], errors='coerce')"
      ],
      "metadata": {
        "id": "BZLmMKzj8egd"
      },
      "execution_count": null,
      "outputs": []
    },
    {
      "cell_type": "code",
      "source": [
        "df.info()"
      ],
      "metadata": {
        "colab": {
          "base_uri": "https://localhost:8080/"
        },
        "id": "rg9XfiHZ8iU3",
        "outputId": "253dfac8-be82-43e7-eccf-3769d4b795b3"
      },
      "execution_count": null,
      "outputs": [
        {
          "output_type": "stream",
          "name": "stdout",
          "text": [
            "<class 'pandas.core.frame.DataFrame'>\n",
            "RangeIndex: 953 entries, 0 to 952\n",
            "Data columns (total 24 columns):\n",
            " #   Column                Non-Null Count  Dtype  \n",
            "---  ------                --------------  -----  \n",
            " 0   track_name            953 non-null    object \n",
            " 1   artist(s)_name        953 non-null    object \n",
            " 2   artist_count          953 non-null    int64  \n",
            " 3   released_year         953 non-null    int64  \n",
            " 4   released_month        953 non-null    int64  \n",
            " 5   released_day          953 non-null    int64  \n",
            " 6   in_spotify_playlists  953 non-null    int64  \n",
            " 7   in_spotify_charts     953 non-null    int64  \n",
            " 8   streams               953 non-null    object \n",
            " 9   in_apple_playlists    953 non-null    int64  \n",
            " 10  in_apple_charts       953 non-null    int64  \n",
            " 11  in_deezer_playlists   874 non-null    float64\n",
            " 12  in_deezer_charts      953 non-null    int64  \n",
            " 13  in_shazam_charts      896 non-null    float64\n",
            " 14  bpm                   953 non-null    int64  \n",
            " 15  key                   858 non-null    object \n",
            " 16  mode                  953 non-null    object \n",
            " 17  danceability_%        953 non-null    int64  \n",
            " 18  valence_%             953 non-null    int64  \n",
            " 19  energy_%              953 non-null    int64  \n",
            " 20  acousticness_%        953 non-null    int64  \n",
            " 21  instrumentalness_%    953 non-null    int64  \n",
            " 22  liveness_%            953 non-null    int64  \n",
            " 23  speechiness_%         953 non-null    int64  \n",
            "dtypes: float64(2), int64(17), object(5)\n",
            "memory usage: 178.8+ KB\n"
          ]
        }
      ]
    },
    {
      "cell_type": "code",
      "source": [
        "# Convert categorical columns to numerical\n",
        "categorical_columns = ['track_name', 'artist(s)_name', 'key', 'mode']\n",
        "for col in df.columns:\n",
        "    if col not in categorical_columns:\n",
        "        df[col] = pd.to_numeric(df[col], errors='coerce')"
      ],
      "metadata": {
        "id": "tlbUuNBB8m1e"
      },
      "execution_count": null,
      "outputs": []
    },
    {
      "cell_type": "code",
      "source": [
        "df.fillna(0, inplace=True)"
      ],
      "metadata": {
        "id": "op-vc45X8nso"
      },
      "execution_count": null,
      "outputs": []
    },
    {
      "cell_type": "code",
      "source": [
        "df.info()"
      ],
      "metadata": {
        "colab": {
          "base_uri": "https://localhost:8080/"
        },
        "id": "DKpEakM78tMW",
        "outputId": "1e0ca468-2725-460f-8277-c6baac064c6b"
      },
      "execution_count": null,
      "outputs": [
        {
          "output_type": "stream",
          "name": "stdout",
          "text": [
            "<class 'pandas.core.frame.DataFrame'>\n",
            "RangeIndex: 953 entries, 0 to 952\n",
            "Data columns (total 24 columns):\n",
            " #   Column                Non-Null Count  Dtype  \n",
            "---  ------                --------------  -----  \n",
            " 0   track_name            953 non-null    object \n",
            " 1   artist(s)_name        953 non-null    object \n",
            " 2   artist_count          953 non-null    int64  \n",
            " 3   released_year         953 non-null    int64  \n",
            " 4   released_month        953 non-null    int64  \n",
            " 5   released_day          953 non-null    int64  \n",
            " 6   in_spotify_playlists  953 non-null    int64  \n",
            " 7   in_spotify_charts     953 non-null    int64  \n",
            " 8   streams               953 non-null    float64\n",
            " 9   in_apple_playlists    953 non-null    int64  \n",
            " 10  in_apple_charts       953 non-null    int64  \n",
            " 11  in_deezer_playlists   953 non-null    float64\n",
            " 12  in_deezer_charts      953 non-null    int64  \n",
            " 13  in_shazam_charts      953 non-null    float64\n",
            " 14  bpm                   953 non-null    int64  \n",
            " 15  key                   953 non-null    object \n",
            " 16  mode                  953 non-null    object \n",
            " 17  danceability_%        953 non-null    int64  \n",
            " 18  valence_%             953 non-null    int64  \n",
            " 19  energy_%              953 non-null    int64  \n",
            " 20  acousticness_%        953 non-null    int64  \n",
            " 21  instrumentalness_%    953 non-null    int64  \n",
            " 22  liveness_%            953 non-null    int64  \n",
            " 23  speechiness_%         953 non-null    int64  \n",
            "dtypes: float64(3), int64(17), object(4)\n",
            "memory usage: 178.8+ KB\n"
          ]
        }
      ]
    },
    {
      "cell_type": "code",
      "source": [
        "df['key'] = pd.Categorical(df['key']).codes\n",
        "df['mode'] = pd.Categorical(df['mode']).codes\n",
        "\n",
        "# Histogram: Streams Distribution\n",
        "fig_streams_dist = px.histogram(df, x='streams', nbins=50, marginal='box', title='Streams Distribution')\n",
        "fig_streams_dist.update_layout(xaxis_title='Streams', yaxis_title='Count')\n",
        "fig_streams_dist.show()"
      ],
      "metadata": {
        "colab": {
          "base_uri": "https://localhost:8080/",
          "height": 542
        },
        "id": "1f0D9HYw8t3E",
        "outputId": "b7da8b45-e792-41d1-d267-360957cc4f57"
      },
      "execution_count": null,
      "outputs": [
        {
          "output_type": "display_data",
          "data": {
            "text/html": [
              "<html>\n",
              "<head><meta charset=\"utf-8\" /></head>\n",
              "<body>\n",
              "    <div>            <script src=\"https://cdnjs.cloudflare.com/ajax/libs/mathjax/2.7.5/MathJax.js?config=TeX-AMS-MML_SVG\"></script><script type=\"text/javascript\">if (window.MathJax && window.MathJax.Hub && window.MathJax.Hub.Config) {window.MathJax.Hub.Config({SVG: {font: \"STIX-Web\"}});}</script>                <script type=\"text/javascript\">window.PlotlyConfig = {MathJaxConfig: 'local'};</script>\n",
              "        <script charset=\"utf-8\" src=\"https://cdn.plot.ly/plotly-2.24.1.min.js\"></script>                <div id=\"5c090d5f-a0f9-479d-95b2-793f5e9bc1c3\" class=\"plotly-graph-div\" style=\"height:525px; width:100%;\"></div>            <script type=\"text/javascript\">                                    window.PLOTLYENV=window.PLOTLYENV || {};                                    if (document.getElementById(\"5c090d5f-a0f9-479d-95b2-793f5e9bc1c3\")) {                    Plotly.newPlot(                        \"5c090d5f-a0f9-479d-95b2-793f5e9bc1c3\",                        [{\"alignmentgroup\":\"True\",\"bingroup\":\"x\",\"hovertemplate\":\"streams=%{x}\\u003cbr\\u003ecount=%{y}\\u003cextra\\u003e\\u003c\\u002fextra\\u003e\",\"legendgroup\":\"\",\"marker\":{\"color\":\"#636efa\",\"pattern\":{\"shape\":\"\"}},\"name\":\"\",\"nbinsx\":50,\"offsetgroup\":\"\",\"orientation\":\"v\",\"showlegend\":false,\"x\":[141381703.0,133716286.0,140003974.0,800840817.0,303236322.0,183706234.0,725980112.0,58149378.0,95217315.0,553634067.0,505671438.0,58255150.0,1316855716.0,387570742.0,2513188493.0,1163093654.0,496795686.0,30546883.0,335222234.0,363369738.0,86444842.0,52135248.0,1297026226.0,200647221.0,115364561.0,78300654.0,899183384.0,61245289.0,429829812.0,127408954.0,22581161.0,52294266.0,843957510.0,999748277.0,618990393.0,123122413.0,188933502.0,1355959075.0,786181836.0,176553476.0,354495408.0,2808096550.0,1109433169.0,1047101291.0,65156199.0,570515054.0,1085685420.0,1647990401.0,2565529693.0,518745108.0,107753850.0,177740666.0,153372011.0,57876440.0,1813673666.0,3703895074.0,256483385.0,1214083358.0,16011326.0,812019557.0,111947664.0,156338624.0,720434240.0,357925728.0,674072710.0,1755214421.0,404562836.0,373199958.0,14780425.0,39578178.0,54266102.0,2557975762.0,751134527.0,2282771485.0,1356565093.0,1592909789.0,635412045.0,1230675890.0,585695368.0,43857627.0,2009094673.0,600976848.0,39709092.0,39228929.0,2665343922.0,223633238.0,2887241814.0,1440757818.0,165484133.0,58054811.0,157058870.0,95131998.0,250305248.0,685032533.0,38411956.0,144565150.0,127567540.0,399686758.0,983637508.0,118482347.0,882831184.0,286400165.0,172825906.0,1241559043.0,29562220.0,77309611.0,1605224506.0,1116995633.0,838079900.0,1163620694.0,1093605526.0,179659294.0,39058561.0,36912123.0,1205951614.0,1791000570.0,201660859.0,248088961.0,90839753.0,607123776.0,55842345.0,211050784.0,342897938.0,2762.0,330346424.0,601863821.0,1953533826.0,2322580122.0,2355719893.0,66902503.0,96273746.0,430977451.0,284819874.0,721975598.0,1217120710.0,109276132.0,276259178.0,54225632.0,2559529074.0,681583126.0,2594040133.0,81102253.0,11956641.0,1687664027.0,11599388.0,611700552.0,1133865788.0,1089402494.0,411747614.0,255932395.0,31873544.0,95053634.0,1279434863.0,233801632.0,1481349984.0,142095275.0,618885532.0,2011464183.0,1167330737.0,929964809.0,436027885.0,657723613.0,2713922350.0,621660989.0,1591223784.0,950906471.0,1593270737.0,1410088830.0,1235005533.0,1661187319.0,1374581173.0,94186466.0,1788326445.0,1840364617.0,143573775.0,684675814.0,1113838873.0,1267333350.0,726307468.0,3562543890.0,1131090940.0,307370144.0,1271293243.0,265882712.0,841749534.0,47956378.0,806397070.0,2132335812.0,1641426668.0,2135158446.0,367316268.0,350381515.0,1264310836.0,30343206.0,405136812.0,1145727611.0,540654286.0,57312735.0,397582059.0,1479115056.0,86773632.0,133753727.0,123124076.0,463564958.0,64533040.0,65496046.0,68616963.0,161460990.0,70106975.0,113509496.0,89933133.0,71007139.0,43522589.0,232896922.0,37126685.0,195576623.0,532336353.0,538115192.0,46142772.0,401036314.0,127026613.0,345031710.0,288101651.0,60350538.0,335074782.0,76767396.0,46065667.0,459276435.0,39666245.0,138517666.0,822633917.0,595900742.0,51985779.0,57945987.0,115010040.0,175097833.0,57089066.0,488386797.0,32761689.0,1047480053.0,153454328.0,217672943.0,457184829.0,939844851.0,726434358.0,573633020.0,1406111294.0,71573339.0,24975653.0,145458418.0,1424589568.0,231332117.0,415932686.0,988515741.0,50847624.0,39893489.0,92035115.0,118810253.0,77233241.0,206399629.0,117747907.0,266624541.0,293186992.0,139681964.0,123132751.0,103762518.0,162887075.0,91221625.0,190490915.0,96180277.0,185240616.0,885093467.0,104992946.0,147290338.0,1302184087.0,158950978.0,76910644.0,137123880.0,782369383.0,502574952.0,207033255.0,404887295.0,381161027.0,466231982.0,357580552.0,61105704.0,198275403.0,168448603.0,705469769.0,34502215.0,482175240.0,304118600.0,1449799467.0,173627354.0,90025258.0,652704649.0,1829992958.0,655466831.0,146409671.0,95816024.0,117206995.0,100409613.0,80758350.0,325592432.0,58473276.0,52722996.0,191945597.0,77377503.0,743693613.0,267789608.0,1221813483.0,449701773.0,67070410.0,116334601.0,433356509.0,165584767.0,367814306.0,477033549.0,156214700.0,448843705.0,1357608774.0,294352144.0,972164968.0,920045682.0,2420461338.0,1947371785.0,244658767.0,68216992.0,223582566.0,471819764.0,272377463.0,1361425037.0,149778242.0,116599790.0,148469433.0,497225336.0,88791109.0,125917280.0,105062254.0,95623148.0,144584800.0,298063749.0,166570053.0,83021468.0,139836056.0,303216294.0,221409663.0,58890931.0,81419389.0,156777415.0,284908316.0,93438910.0,363472647.0,372476382.0,380726517.0,56533272.0,175399345.0,203221468.0,1624165576.0,134294498.0,70069745.0,609293408.0,671365962.0,362361576.0,93587665.0,1223481149.0,1022258230.0,263453310.0,1435127549.0,236857112.0,147538971.0,698086140.0,723894473.0,34450974.0,403097450.0,309483971.0,319566866.0,909001996.0,1061966512.0,32526947.0,124988687.0,103787664.0,134255790.0,301051721.0,156338624.0,152850295.0,309653982.0,297328960.0,332506354.0,480507035.0,1065580332.0,122763672.0,445763624.0,1365184.0,184308753.0,789753877.0,323358833.0,606361689.0,120972253.0,338564981.0,1606986953.0,1301799902.0,140187018.0,1897517891.0,107642809.0,551305895.0,556585270.0,2303033973.0,646886885.0,222612678.0,1814349763.0,872137015.0,571386359.0,304079786.0,174006928.0,284785823.0,163284000.0,246390068.0,482257456.0,168684524.0,78489819.0,195516622.0,1260594497.0,428685680.0,1024858327.0,838586769.0,199386237.0,972509632.0,213438580.0,1555511105.0,210038833.0,227918678.0,826623384.0,1802514301.0,1329090101.0,181831132.0,462791599.0,348647203.0,366599607.0,90598517.0,1479264469.0,1449779435.0,1159176109.0,769213520.0,741301563.0,807561936.0,834129063.0,663832097.0,446390129.0,690104769.0,485285717.0,520034544.0,476244795.0,629173063.0,404664135.0,98709329.0,110849052.0,460492795.0,94005786.0,395591396.0,389771964.0,403939487.0,481697415.0,110073250.0,88092256.0,351636786.0,473248298.0,73981293.0,155653938.0,395591396.0,429504768.0,242767149.0,65362788.0,67540165.0,62019074.0,135723538.0,295998468.0,261116938.0,136689549.0,135611421.0,356709897.0,110649992.0,301869854.0,127027715.0,57144458.0,56870689.0,323437194.0,317726339.0,116144341.0,328207708.0,608228647.0,180577478.0,809306935.0,49262961.0,614555082.0,245350949.0,178660459.0,51641685.0,78139948.0,322336177.0,1007612429.0,326792833.0,391251368.0,349585590.0,339659802.0,674772936.0,432719968.0,1309887447.0,119238316.0,116903579.0,888046992.0,200660871.0,130655803.0,1887039593.0,88103848.0,101114984.0,1575467011.0,91656026.0,1042568408.0,1735441776.0,726837877.0,53933526.0,267758538.0,74601456.0,920797189.0,539595276.0,1367810478.0,578207856.0,775542072.0,863625566.0,656013912.0,1056760045.0,611994237.0,1230855859.0,582981380.0,1858144199.0,240684449.0,583687007.0,63803529.0,466214729.0,236940480.0,41924466.0,225259194.0,393230256.0,287201015.0,599770206.0,342779426.0,673801126.0,1168642797.0,540539717.0,383550148.0,530511203.0,37307967.0,510876816.0,1445941661.0,1763363713.0,374191487.0,108809090.0,436695353.0,421040617.0,501541661.0,354065229.0,1143647827.0,311395144.0,672656250.0,1256880657.0,1692897992.0,245095641.0,686734357.0,261414174.0,610045621.0,1115880852.0,594482982.0,566954746.0,0.0,374706940.0,184937148.0,31959571.0,167076418.0,824420218.0,363467642.0,1127468248.0,60680939.0,247737946.0,1699402402.0,154797871.0,198883004.0,124407432.0,850608354.0,376333030.0,516784627.0,1608045237.0,506778838.0,1472799873.0,513643924.0,261286503.0,783706581.0,422691058.0,1062345656.0,1252563873.0,851070493.0,263894529.0,345903614.0,951637566.0,956865266.0,427486004.0,156658366.0,624515457.0,777765388.0,412795151.0,1138474110.0,355219175.0,290228626.0,1062956628.0,1180094974.0,1456081449.0,432702334.0,489945871.0,465959382.0,1223481149.0,2864791672.0,2288695111.0,720825549.0,2086124197.0,1690192927.0,991336132.0,593917618.0,200972675.0,71014967.0,560222750.0,1806617704.0,77337771.0,528544703.0,865640097.0,2159346687.0,211372494.0,651732901.0,608334048.0,863756573.0,797402345.0,1695712020.0,1759567999.0,223319934.0,54937991.0,226897599.0,258316038.0,596152090.0,177129919.0,716591492.0,1210599487.0,246376690.0,496311364.0,146789379.0,843309044.0,500340342.0,107255472.0,135079152.0,822239726.0,1202722675.0,343197054.0,240769997.0,426204830.0,421135627.0,554875730.0,467727006.0,327498031.0,185408548.0,245400167.0,579395142.0,675039469.0,252871192.0,231996128.0,1929770265.0,918915401.0,1180896317.0,498960285.0,685071800.0,258714692.0,143139338.0,209768491.0,64714573.0,50746620.0,154119539.0,181328253.0,370068639.0,2280566092.0,563902868.0,317622165.0,291709698.0,203680270.0,81350745.0,282883169.0,64787943.0,2484812918.0,461437791.0,1439191367.0,759208783.0,368646862.0,299634472.0,756907987.0,682475162.0,546191065.0,229473310.0,202677468.0,121913181.0,208166039.0,527033089.0,94616487.0,394030335.0,193443895.0,299648208.0,182978249.0,319757142.0,109091573.0,153240879.0,346127840.0,312622938.0,2197010679.0,1200808494.0,797196073.0,1970673297.0,665765558.0,263779030.0,339473453.0,2204080728.0,2591224264.0,135444283.0,1457139296.0,236872197.0,694525298.0,240661097.0,421365166.0,349746291.0,255120451.0,190981339.0,924193303.0,305771063.0,273005485.0,89566512.0,677389855.0,75476209.0,408843328.0,187772591.0,178512385.0,101780047.0,118381354.0,146363130.0,126443991.0,157990698.0,176290831.0,1023187129.0,106933107.0,139193812.0,212234990.0,1714490998.0,197643795.0,807015863.0,933815613.0,499710590.0,120847157.0,53909146.0,2236667932.0,2123309722.0,301242089.0,723894473.0,237351106.0,461558540.0,417230415.0,156898322.0,127309180.0,313113297.0,173702135.0,271666301.0,305650299.0,123216717.0,479655659.0,126191104.0,344055883.0,338422004.0,68895644.0,86176890.0,403231558.0,319546754.0,61739839.0,283359161.0,76831876.0,283332261.0,307752576.0,279737940.0,212351890.0,1304313953.0,150500965.0,246127838.0,582863434.0,58687425.0,212109195.0,382199619.0,41210087.0,231657891.0,53729194.0,244741137.0,42485571.0,37778188.0,254218729.0,53603447.0,160035717.0,164163229.0,37091576.0,284249832.0,33381454.0,184622518.0,300983101.0,121077868.0,106919680.0,136996305.0,65719930.0,229497852.0,185550869.0,54682594.0,240580042.0,1284942608.0,71423324.0,244891912.0,132171975.0,184706613.0,184826429.0,302006641.0,330881149.0,334733572.0,366214458.0,114546317.0,290833204.0,448500832.0,136676504.0,190625045.0,79095270.0,273194684.0,333146475.0,194902696.0,311482393.0,195918494.0,248511839.0,233671263.0,199587884.0,91781263.0,383835984.0,236060709.0,189236868.0,160845341.0,588955257.0,238350348.0,187703102.0,295307001.0,138334433.0,445590495.0,286739476.0,1122364376.0,157136970.0,137070925.0,183273246.0,184807630.0,164856284.0,704171068.0,354614964.0,279717388.0,195628667.0,221752937.0,263280370.0,213505179.0,130419412.0,155795783.0,1553497987.0,293466523.0,711366595.0,191448892.0,85924992.0,176103902.0,121189256.0,131746175.0,244790012.0,129314708.0,331511413.0,219196651.0,170732845.0,273914335.0,179061440.0,185236961.0,171788484.0,387080183.0,264717480.0,244928911.0,97610446.0,287278853.0,887906111.0,123473120.0,295152154.0,323455692.0,240918092.0,191873381.0,284216603.0,239411309.0,265548837.0,703301727.0,244585109.0,189476119.0,277132266.0,278920007.0,222410722.0,185392587.0,202452860.0,1608164312.0,624101957.0,148461629.0,47093942.0,380319238.0,209106362.0,53987404.0,115331792.0,225093344.0,84697729.0,159240673.0,170709584.0,154356956.0,723043854.0,247689123.0,176474912.0,235549288.0,140430339.0,85559365.0,146223492.0,187701588.0,154863153.0,191333656.0,253650850.0,223064273.0,170413877.0,218320587.0,141720999.0,187339835.0,198365537.0,186104310.0,177503916.0,71095708.0,112436403.0,203436468.0,93367537.0,106249219.0,181382590.0,91473363.0,121871870.0,73513683.0,133895612.0,96007391.0],\"xaxis\":\"x\",\"yaxis\":\"y\",\"type\":\"histogram\"},{\"alignmentgroup\":\"True\",\"hovertemplate\":\"streams=%{x}\\u003cextra\\u003e\\u003c\\u002fextra\\u003e\",\"legendgroup\":\"\",\"marker\":{\"color\":\"#636efa\"},\"name\":\"\",\"notched\":true,\"offsetgroup\":\"\",\"showlegend\":false,\"x\":[141381703.0,133716286.0,140003974.0,800840817.0,303236322.0,183706234.0,725980112.0,58149378.0,95217315.0,553634067.0,505671438.0,58255150.0,1316855716.0,387570742.0,2513188493.0,1163093654.0,496795686.0,30546883.0,335222234.0,363369738.0,86444842.0,52135248.0,1297026226.0,200647221.0,115364561.0,78300654.0,899183384.0,61245289.0,429829812.0,127408954.0,22581161.0,52294266.0,843957510.0,999748277.0,618990393.0,123122413.0,188933502.0,1355959075.0,786181836.0,176553476.0,354495408.0,2808096550.0,1109433169.0,1047101291.0,65156199.0,570515054.0,1085685420.0,1647990401.0,2565529693.0,518745108.0,107753850.0,177740666.0,153372011.0,57876440.0,1813673666.0,3703895074.0,256483385.0,1214083358.0,16011326.0,812019557.0,111947664.0,156338624.0,720434240.0,357925728.0,674072710.0,1755214421.0,404562836.0,373199958.0,14780425.0,39578178.0,54266102.0,2557975762.0,751134527.0,2282771485.0,1356565093.0,1592909789.0,635412045.0,1230675890.0,585695368.0,43857627.0,2009094673.0,600976848.0,39709092.0,39228929.0,2665343922.0,223633238.0,2887241814.0,1440757818.0,165484133.0,58054811.0,157058870.0,95131998.0,250305248.0,685032533.0,38411956.0,144565150.0,127567540.0,399686758.0,983637508.0,118482347.0,882831184.0,286400165.0,172825906.0,1241559043.0,29562220.0,77309611.0,1605224506.0,1116995633.0,838079900.0,1163620694.0,1093605526.0,179659294.0,39058561.0,36912123.0,1205951614.0,1791000570.0,201660859.0,248088961.0,90839753.0,607123776.0,55842345.0,211050784.0,342897938.0,2762.0,330346424.0,601863821.0,1953533826.0,2322580122.0,2355719893.0,66902503.0,96273746.0,430977451.0,284819874.0,721975598.0,1217120710.0,109276132.0,276259178.0,54225632.0,2559529074.0,681583126.0,2594040133.0,81102253.0,11956641.0,1687664027.0,11599388.0,611700552.0,1133865788.0,1089402494.0,411747614.0,255932395.0,31873544.0,95053634.0,1279434863.0,233801632.0,1481349984.0,142095275.0,618885532.0,2011464183.0,1167330737.0,929964809.0,436027885.0,657723613.0,2713922350.0,621660989.0,1591223784.0,950906471.0,1593270737.0,1410088830.0,1235005533.0,1661187319.0,1374581173.0,94186466.0,1788326445.0,1840364617.0,143573775.0,684675814.0,1113838873.0,1267333350.0,726307468.0,3562543890.0,1131090940.0,307370144.0,1271293243.0,265882712.0,841749534.0,47956378.0,806397070.0,2132335812.0,1641426668.0,2135158446.0,367316268.0,350381515.0,1264310836.0,30343206.0,405136812.0,1145727611.0,540654286.0,57312735.0,397582059.0,1479115056.0,86773632.0,133753727.0,123124076.0,463564958.0,64533040.0,65496046.0,68616963.0,161460990.0,70106975.0,113509496.0,89933133.0,71007139.0,43522589.0,232896922.0,37126685.0,195576623.0,532336353.0,538115192.0,46142772.0,401036314.0,127026613.0,345031710.0,288101651.0,60350538.0,335074782.0,76767396.0,46065667.0,459276435.0,39666245.0,138517666.0,822633917.0,595900742.0,51985779.0,57945987.0,115010040.0,175097833.0,57089066.0,488386797.0,32761689.0,1047480053.0,153454328.0,217672943.0,457184829.0,939844851.0,726434358.0,573633020.0,1406111294.0,71573339.0,24975653.0,145458418.0,1424589568.0,231332117.0,415932686.0,988515741.0,50847624.0,39893489.0,92035115.0,118810253.0,77233241.0,206399629.0,117747907.0,266624541.0,293186992.0,139681964.0,123132751.0,103762518.0,162887075.0,91221625.0,190490915.0,96180277.0,185240616.0,885093467.0,104992946.0,147290338.0,1302184087.0,158950978.0,76910644.0,137123880.0,782369383.0,502574952.0,207033255.0,404887295.0,381161027.0,466231982.0,357580552.0,61105704.0,198275403.0,168448603.0,705469769.0,34502215.0,482175240.0,304118600.0,1449799467.0,173627354.0,90025258.0,652704649.0,1829992958.0,655466831.0,146409671.0,95816024.0,117206995.0,100409613.0,80758350.0,325592432.0,58473276.0,52722996.0,191945597.0,77377503.0,743693613.0,267789608.0,1221813483.0,449701773.0,67070410.0,116334601.0,433356509.0,165584767.0,367814306.0,477033549.0,156214700.0,448843705.0,1357608774.0,294352144.0,972164968.0,920045682.0,2420461338.0,1947371785.0,244658767.0,68216992.0,223582566.0,471819764.0,272377463.0,1361425037.0,149778242.0,116599790.0,148469433.0,497225336.0,88791109.0,125917280.0,105062254.0,95623148.0,144584800.0,298063749.0,166570053.0,83021468.0,139836056.0,303216294.0,221409663.0,58890931.0,81419389.0,156777415.0,284908316.0,93438910.0,363472647.0,372476382.0,380726517.0,56533272.0,175399345.0,203221468.0,1624165576.0,134294498.0,70069745.0,609293408.0,671365962.0,362361576.0,93587665.0,1223481149.0,1022258230.0,263453310.0,1435127549.0,236857112.0,147538971.0,698086140.0,723894473.0,34450974.0,403097450.0,309483971.0,319566866.0,909001996.0,1061966512.0,32526947.0,124988687.0,103787664.0,134255790.0,301051721.0,156338624.0,152850295.0,309653982.0,297328960.0,332506354.0,480507035.0,1065580332.0,122763672.0,445763624.0,1365184.0,184308753.0,789753877.0,323358833.0,606361689.0,120972253.0,338564981.0,1606986953.0,1301799902.0,140187018.0,1897517891.0,107642809.0,551305895.0,556585270.0,2303033973.0,646886885.0,222612678.0,1814349763.0,872137015.0,571386359.0,304079786.0,174006928.0,284785823.0,163284000.0,246390068.0,482257456.0,168684524.0,78489819.0,195516622.0,1260594497.0,428685680.0,1024858327.0,838586769.0,199386237.0,972509632.0,213438580.0,1555511105.0,210038833.0,227918678.0,826623384.0,1802514301.0,1329090101.0,181831132.0,462791599.0,348647203.0,366599607.0,90598517.0,1479264469.0,1449779435.0,1159176109.0,769213520.0,741301563.0,807561936.0,834129063.0,663832097.0,446390129.0,690104769.0,485285717.0,520034544.0,476244795.0,629173063.0,404664135.0,98709329.0,110849052.0,460492795.0,94005786.0,395591396.0,389771964.0,403939487.0,481697415.0,110073250.0,88092256.0,351636786.0,473248298.0,73981293.0,155653938.0,395591396.0,429504768.0,242767149.0,65362788.0,67540165.0,62019074.0,135723538.0,295998468.0,261116938.0,136689549.0,135611421.0,356709897.0,110649992.0,301869854.0,127027715.0,57144458.0,56870689.0,323437194.0,317726339.0,116144341.0,328207708.0,608228647.0,180577478.0,809306935.0,49262961.0,614555082.0,245350949.0,178660459.0,51641685.0,78139948.0,322336177.0,1007612429.0,326792833.0,391251368.0,349585590.0,339659802.0,674772936.0,432719968.0,1309887447.0,119238316.0,116903579.0,888046992.0,200660871.0,130655803.0,1887039593.0,88103848.0,101114984.0,1575467011.0,91656026.0,1042568408.0,1735441776.0,726837877.0,53933526.0,267758538.0,74601456.0,920797189.0,539595276.0,1367810478.0,578207856.0,775542072.0,863625566.0,656013912.0,1056760045.0,611994237.0,1230855859.0,582981380.0,1858144199.0,240684449.0,583687007.0,63803529.0,466214729.0,236940480.0,41924466.0,225259194.0,393230256.0,287201015.0,599770206.0,342779426.0,673801126.0,1168642797.0,540539717.0,383550148.0,530511203.0,37307967.0,510876816.0,1445941661.0,1763363713.0,374191487.0,108809090.0,436695353.0,421040617.0,501541661.0,354065229.0,1143647827.0,311395144.0,672656250.0,1256880657.0,1692897992.0,245095641.0,686734357.0,261414174.0,610045621.0,1115880852.0,594482982.0,566954746.0,0.0,374706940.0,184937148.0,31959571.0,167076418.0,824420218.0,363467642.0,1127468248.0,60680939.0,247737946.0,1699402402.0,154797871.0,198883004.0,124407432.0,850608354.0,376333030.0,516784627.0,1608045237.0,506778838.0,1472799873.0,513643924.0,261286503.0,783706581.0,422691058.0,1062345656.0,1252563873.0,851070493.0,263894529.0,345903614.0,951637566.0,956865266.0,427486004.0,156658366.0,624515457.0,777765388.0,412795151.0,1138474110.0,355219175.0,290228626.0,1062956628.0,1180094974.0,1456081449.0,432702334.0,489945871.0,465959382.0,1223481149.0,2864791672.0,2288695111.0,720825549.0,2086124197.0,1690192927.0,991336132.0,593917618.0,200972675.0,71014967.0,560222750.0,1806617704.0,77337771.0,528544703.0,865640097.0,2159346687.0,211372494.0,651732901.0,608334048.0,863756573.0,797402345.0,1695712020.0,1759567999.0,223319934.0,54937991.0,226897599.0,258316038.0,596152090.0,177129919.0,716591492.0,1210599487.0,246376690.0,496311364.0,146789379.0,843309044.0,500340342.0,107255472.0,135079152.0,822239726.0,1202722675.0,343197054.0,240769997.0,426204830.0,421135627.0,554875730.0,467727006.0,327498031.0,185408548.0,245400167.0,579395142.0,675039469.0,252871192.0,231996128.0,1929770265.0,918915401.0,1180896317.0,498960285.0,685071800.0,258714692.0,143139338.0,209768491.0,64714573.0,50746620.0,154119539.0,181328253.0,370068639.0,2280566092.0,563902868.0,317622165.0,291709698.0,203680270.0,81350745.0,282883169.0,64787943.0,2484812918.0,461437791.0,1439191367.0,759208783.0,368646862.0,299634472.0,756907987.0,682475162.0,546191065.0,229473310.0,202677468.0,121913181.0,208166039.0,527033089.0,94616487.0,394030335.0,193443895.0,299648208.0,182978249.0,319757142.0,109091573.0,153240879.0,346127840.0,312622938.0,2197010679.0,1200808494.0,797196073.0,1970673297.0,665765558.0,263779030.0,339473453.0,2204080728.0,2591224264.0,135444283.0,1457139296.0,236872197.0,694525298.0,240661097.0,421365166.0,349746291.0,255120451.0,190981339.0,924193303.0,305771063.0,273005485.0,89566512.0,677389855.0,75476209.0,408843328.0,187772591.0,178512385.0,101780047.0,118381354.0,146363130.0,126443991.0,157990698.0,176290831.0,1023187129.0,106933107.0,139193812.0,212234990.0,1714490998.0,197643795.0,807015863.0,933815613.0,499710590.0,120847157.0,53909146.0,2236667932.0,2123309722.0,301242089.0,723894473.0,237351106.0,461558540.0,417230415.0,156898322.0,127309180.0,313113297.0,173702135.0,271666301.0,305650299.0,123216717.0,479655659.0,126191104.0,344055883.0,338422004.0,68895644.0,86176890.0,403231558.0,319546754.0,61739839.0,283359161.0,76831876.0,283332261.0,307752576.0,279737940.0,212351890.0,1304313953.0,150500965.0,246127838.0,582863434.0,58687425.0,212109195.0,382199619.0,41210087.0,231657891.0,53729194.0,244741137.0,42485571.0,37778188.0,254218729.0,53603447.0,160035717.0,164163229.0,37091576.0,284249832.0,33381454.0,184622518.0,300983101.0,121077868.0,106919680.0,136996305.0,65719930.0,229497852.0,185550869.0,54682594.0,240580042.0,1284942608.0,71423324.0,244891912.0,132171975.0,184706613.0,184826429.0,302006641.0,330881149.0,334733572.0,366214458.0,114546317.0,290833204.0,448500832.0,136676504.0,190625045.0,79095270.0,273194684.0,333146475.0,194902696.0,311482393.0,195918494.0,248511839.0,233671263.0,199587884.0,91781263.0,383835984.0,236060709.0,189236868.0,160845341.0,588955257.0,238350348.0,187703102.0,295307001.0,138334433.0,445590495.0,286739476.0,1122364376.0,157136970.0,137070925.0,183273246.0,184807630.0,164856284.0,704171068.0,354614964.0,279717388.0,195628667.0,221752937.0,263280370.0,213505179.0,130419412.0,155795783.0,1553497987.0,293466523.0,711366595.0,191448892.0,85924992.0,176103902.0,121189256.0,131746175.0,244790012.0,129314708.0,331511413.0,219196651.0,170732845.0,273914335.0,179061440.0,185236961.0,171788484.0,387080183.0,264717480.0,244928911.0,97610446.0,287278853.0,887906111.0,123473120.0,295152154.0,323455692.0,240918092.0,191873381.0,284216603.0,239411309.0,265548837.0,703301727.0,244585109.0,189476119.0,277132266.0,278920007.0,222410722.0,185392587.0,202452860.0,1608164312.0,624101957.0,148461629.0,47093942.0,380319238.0,209106362.0,53987404.0,115331792.0,225093344.0,84697729.0,159240673.0,170709584.0,154356956.0,723043854.0,247689123.0,176474912.0,235549288.0,140430339.0,85559365.0,146223492.0,187701588.0,154863153.0,191333656.0,253650850.0,223064273.0,170413877.0,218320587.0,141720999.0,187339835.0,198365537.0,186104310.0,177503916.0,71095708.0,112436403.0,203436468.0,93367537.0,106249219.0,181382590.0,91473363.0,121871870.0,73513683.0,133895612.0,96007391.0],\"xaxis\":\"x2\",\"yaxis\":\"y2\",\"type\":\"box\"}],                        {\"template\":{\"data\":{\"histogram2dcontour\":[{\"type\":\"histogram2dcontour\",\"colorbar\":{\"outlinewidth\":0,\"ticks\":\"\"},\"colorscale\":[[0.0,\"#0d0887\"],[0.1111111111111111,\"#46039f\"],[0.2222222222222222,\"#7201a8\"],[0.3333333333333333,\"#9c179e\"],[0.4444444444444444,\"#bd3786\"],[0.5555555555555556,\"#d8576b\"],[0.6666666666666666,\"#ed7953\"],[0.7777777777777778,\"#fb9f3a\"],[0.8888888888888888,\"#fdca26\"],[1.0,\"#f0f921\"]]}],\"choropleth\":[{\"type\":\"choropleth\",\"colorbar\":{\"outlinewidth\":0,\"ticks\":\"\"}}],\"histogram2d\":[{\"type\":\"histogram2d\",\"colorbar\":{\"outlinewidth\":0,\"ticks\":\"\"},\"colorscale\":[[0.0,\"#0d0887\"],[0.1111111111111111,\"#46039f\"],[0.2222222222222222,\"#7201a8\"],[0.3333333333333333,\"#9c179e\"],[0.4444444444444444,\"#bd3786\"],[0.5555555555555556,\"#d8576b\"],[0.6666666666666666,\"#ed7953\"],[0.7777777777777778,\"#fb9f3a\"],[0.8888888888888888,\"#fdca26\"],[1.0,\"#f0f921\"]]}],\"heatmap\":[{\"type\":\"heatmap\",\"colorbar\":{\"outlinewidth\":0,\"ticks\":\"\"},\"colorscale\":[[0.0,\"#0d0887\"],[0.1111111111111111,\"#46039f\"],[0.2222222222222222,\"#7201a8\"],[0.3333333333333333,\"#9c179e\"],[0.4444444444444444,\"#bd3786\"],[0.5555555555555556,\"#d8576b\"],[0.6666666666666666,\"#ed7953\"],[0.7777777777777778,\"#fb9f3a\"],[0.8888888888888888,\"#fdca26\"],[1.0,\"#f0f921\"]]}],\"heatmapgl\":[{\"type\":\"heatmapgl\",\"colorbar\":{\"outlinewidth\":0,\"ticks\":\"\"},\"colorscale\":[[0.0,\"#0d0887\"],[0.1111111111111111,\"#46039f\"],[0.2222222222222222,\"#7201a8\"],[0.3333333333333333,\"#9c179e\"],[0.4444444444444444,\"#bd3786\"],[0.5555555555555556,\"#d8576b\"],[0.6666666666666666,\"#ed7953\"],[0.7777777777777778,\"#fb9f3a\"],[0.8888888888888888,\"#fdca26\"],[1.0,\"#f0f921\"]]}],\"contourcarpet\":[{\"type\":\"contourcarpet\",\"colorbar\":{\"outlinewidth\":0,\"ticks\":\"\"}}],\"contour\":[{\"type\":\"contour\",\"colorbar\":{\"outlinewidth\":0,\"ticks\":\"\"},\"colorscale\":[[0.0,\"#0d0887\"],[0.1111111111111111,\"#46039f\"],[0.2222222222222222,\"#7201a8\"],[0.3333333333333333,\"#9c179e\"],[0.4444444444444444,\"#bd3786\"],[0.5555555555555556,\"#d8576b\"],[0.6666666666666666,\"#ed7953\"],[0.7777777777777778,\"#fb9f3a\"],[0.8888888888888888,\"#fdca26\"],[1.0,\"#f0f921\"]]}],\"surface\":[{\"type\":\"surface\",\"colorbar\":{\"outlinewidth\":0,\"ticks\":\"\"},\"colorscale\":[[0.0,\"#0d0887\"],[0.1111111111111111,\"#46039f\"],[0.2222222222222222,\"#7201a8\"],[0.3333333333333333,\"#9c179e\"],[0.4444444444444444,\"#bd3786\"],[0.5555555555555556,\"#d8576b\"],[0.6666666666666666,\"#ed7953\"],[0.7777777777777778,\"#fb9f3a\"],[0.8888888888888888,\"#fdca26\"],[1.0,\"#f0f921\"]]}],\"mesh3d\":[{\"type\":\"mesh3d\",\"colorbar\":{\"outlinewidth\":0,\"ticks\":\"\"}}],\"scatter\":[{\"fillpattern\":{\"fillmode\":\"overlay\",\"size\":10,\"solidity\":0.2},\"type\":\"scatter\"}],\"parcoords\":[{\"type\":\"parcoords\",\"line\":{\"colorbar\":{\"outlinewidth\":0,\"ticks\":\"\"}}}],\"scatterpolargl\":[{\"type\":\"scatterpolargl\",\"marker\":{\"colorbar\":{\"outlinewidth\":0,\"ticks\":\"\"}}}],\"bar\":[{\"error_x\":{\"color\":\"#2a3f5f\"},\"error_y\":{\"color\":\"#2a3f5f\"},\"marker\":{\"line\":{\"color\":\"#E5ECF6\",\"width\":0.5},\"pattern\":{\"fillmode\":\"overlay\",\"size\":10,\"solidity\":0.2}},\"type\":\"bar\"}],\"scattergeo\":[{\"type\":\"scattergeo\",\"marker\":{\"colorbar\":{\"outlinewidth\":0,\"ticks\":\"\"}}}],\"scatterpolar\":[{\"type\":\"scatterpolar\",\"marker\":{\"colorbar\":{\"outlinewidth\":0,\"ticks\":\"\"}}}],\"histogram\":[{\"marker\":{\"pattern\":{\"fillmode\":\"overlay\",\"size\":10,\"solidity\":0.2}},\"type\":\"histogram\"}],\"scattergl\":[{\"type\":\"scattergl\",\"marker\":{\"colorbar\":{\"outlinewidth\":0,\"ticks\":\"\"}}}],\"scatter3d\":[{\"type\":\"scatter3d\",\"line\":{\"colorbar\":{\"outlinewidth\":0,\"ticks\":\"\"}},\"marker\":{\"colorbar\":{\"outlinewidth\":0,\"ticks\":\"\"}}}],\"scattermapbox\":[{\"type\":\"scattermapbox\",\"marker\":{\"colorbar\":{\"outlinewidth\":0,\"ticks\":\"\"}}}],\"scatterternary\":[{\"type\":\"scatterternary\",\"marker\":{\"colorbar\":{\"outlinewidth\":0,\"ticks\":\"\"}}}],\"scattercarpet\":[{\"type\":\"scattercarpet\",\"marker\":{\"colorbar\":{\"outlinewidth\":0,\"ticks\":\"\"}}}],\"carpet\":[{\"aaxis\":{\"endlinecolor\":\"#2a3f5f\",\"gridcolor\":\"white\",\"linecolor\":\"white\",\"minorgridcolor\":\"white\",\"startlinecolor\":\"#2a3f5f\"},\"baxis\":{\"endlinecolor\":\"#2a3f5f\",\"gridcolor\":\"white\",\"linecolor\":\"white\",\"minorgridcolor\":\"white\",\"startlinecolor\":\"#2a3f5f\"},\"type\":\"carpet\"}],\"table\":[{\"cells\":{\"fill\":{\"color\":\"#EBF0F8\"},\"line\":{\"color\":\"white\"}},\"header\":{\"fill\":{\"color\":\"#C8D4E3\"},\"line\":{\"color\":\"white\"}},\"type\":\"table\"}],\"barpolar\":[{\"marker\":{\"line\":{\"color\":\"#E5ECF6\",\"width\":0.5},\"pattern\":{\"fillmode\":\"overlay\",\"size\":10,\"solidity\":0.2}},\"type\":\"barpolar\"}],\"pie\":[{\"automargin\":true,\"type\":\"pie\"}]},\"layout\":{\"autotypenumbers\":\"strict\",\"colorway\":[\"#636efa\",\"#EF553B\",\"#00cc96\",\"#ab63fa\",\"#FFA15A\",\"#19d3f3\",\"#FF6692\",\"#B6E880\",\"#FF97FF\",\"#FECB52\"],\"font\":{\"color\":\"#2a3f5f\"},\"hovermode\":\"closest\",\"hoverlabel\":{\"align\":\"left\"},\"paper_bgcolor\":\"white\",\"plot_bgcolor\":\"#E5ECF6\",\"polar\":{\"bgcolor\":\"#E5ECF6\",\"angularaxis\":{\"gridcolor\":\"white\",\"linecolor\":\"white\",\"ticks\":\"\"},\"radialaxis\":{\"gridcolor\":\"white\",\"linecolor\":\"white\",\"ticks\":\"\"}},\"ternary\":{\"bgcolor\":\"#E5ECF6\",\"aaxis\":{\"gridcolor\":\"white\",\"linecolor\":\"white\",\"ticks\":\"\"},\"baxis\":{\"gridcolor\":\"white\",\"linecolor\":\"white\",\"ticks\":\"\"},\"caxis\":{\"gridcolor\":\"white\",\"linecolor\":\"white\",\"ticks\":\"\"}},\"coloraxis\":{\"colorbar\":{\"outlinewidth\":0,\"ticks\":\"\"}},\"colorscale\":{\"sequential\":[[0.0,\"#0d0887\"],[0.1111111111111111,\"#46039f\"],[0.2222222222222222,\"#7201a8\"],[0.3333333333333333,\"#9c179e\"],[0.4444444444444444,\"#bd3786\"],[0.5555555555555556,\"#d8576b\"],[0.6666666666666666,\"#ed7953\"],[0.7777777777777778,\"#fb9f3a\"],[0.8888888888888888,\"#fdca26\"],[1.0,\"#f0f921\"]],\"sequentialminus\":[[0.0,\"#0d0887\"],[0.1111111111111111,\"#46039f\"],[0.2222222222222222,\"#7201a8\"],[0.3333333333333333,\"#9c179e\"],[0.4444444444444444,\"#bd3786\"],[0.5555555555555556,\"#d8576b\"],[0.6666666666666666,\"#ed7953\"],[0.7777777777777778,\"#fb9f3a\"],[0.8888888888888888,\"#fdca26\"],[1.0,\"#f0f921\"]],\"diverging\":[[0,\"#8e0152\"],[0.1,\"#c51b7d\"],[0.2,\"#de77ae\"],[0.3,\"#f1b6da\"],[0.4,\"#fde0ef\"],[0.5,\"#f7f7f7\"],[0.6,\"#e6f5d0\"],[0.7,\"#b8e186\"],[0.8,\"#7fbc41\"],[0.9,\"#4d9221\"],[1,\"#276419\"]]},\"xaxis\":{\"gridcolor\":\"white\",\"linecolor\":\"white\",\"ticks\":\"\",\"title\":{\"standoff\":15},\"zerolinecolor\":\"white\",\"automargin\":true,\"zerolinewidth\":2},\"yaxis\":{\"gridcolor\":\"white\",\"linecolor\":\"white\",\"ticks\":\"\",\"title\":{\"standoff\":15},\"zerolinecolor\":\"white\",\"automargin\":true,\"zerolinewidth\":2},\"scene\":{\"xaxis\":{\"backgroundcolor\":\"#E5ECF6\",\"gridcolor\":\"white\",\"linecolor\":\"white\",\"showbackground\":true,\"ticks\":\"\",\"zerolinecolor\":\"white\",\"gridwidth\":2},\"yaxis\":{\"backgroundcolor\":\"#E5ECF6\",\"gridcolor\":\"white\",\"linecolor\":\"white\",\"showbackground\":true,\"ticks\":\"\",\"zerolinecolor\":\"white\",\"gridwidth\":2},\"zaxis\":{\"backgroundcolor\":\"#E5ECF6\",\"gridcolor\":\"white\",\"linecolor\":\"white\",\"showbackground\":true,\"ticks\":\"\",\"zerolinecolor\":\"white\",\"gridwidth\":2}},\"shapedefaults\":{\"line\":{\"color\":\"#2a3f5f\"}},\"annotationdefaults\":{\"arrowcolor\":\"#2a3f5f\",\"arrowhead\":0,\"arrowwidth\":1},\"geo\":{\"bgcolor\":\"white\",\"landcolor\":\"#E5ECF6\",\"subunitcolor\":\"white\",\"showland\":true,\"showlakes\":true,\"lakecolor\":\"white\"},\"title\":{\"x\":0.05},\"mapbox\":{\"style\":\"light\"}}},\"xaxis\":{\"anchor\":\"y\",\"domain\":[0.0,1.0],\"title\":{\"text\":\"Streams\"}},\"yaxis\":{\"anchor\":\"x\",\"domain\":[0.0,0.8316],\"title\":{\"text\":\"Count\"}},\"xaxis2\":{\"anchor\":\"y2\",\"domain\":[0.0,1.0],\"matches\":\"x\",\"showticklabels\":false,\"showgrid\":true},\"yaxis2\":{\"anchor\":\"x2\",\"domain\":[0.8416,1.0],\"matches\":\"y2\",\"showticklabels\":false,\"showline\":false,\"ticks\":\"\",\"showgrid\":false},\"legend\":{\"tracegroupgap\":0},\"title\":{\"text\":\"Streams Distribution\"},\"barmode\":\"relative\"},                        {\"responsive\": true}                    ).then(function(){\n",
              "                            \n",
              "var gd = document.getElementById('5c090d5f-a0f9-479d-95b2-793f5e9bc1c3');\n",
              "var x = new MutationObserver(function (mutations, observer) {{\n",
              "        var display = window.getComputedStyle(gd).display;\n",
              "        if (!display || display === 'none') {{\n",
              "            console.log([gd, 'removed!']);\n",
              "            Plotly.purge(gd);\n",
              "            observer.disconnect();\n",
              "        }}\n",
              "}});\n",
              "\n",
              "// Listen for the removal of the full notebook cells\n",
              "var notebookContainer = gd.closest('#notebook-container');\n",
              "if (notebookContainer) {{\n",
              "    x.observe(notebookContainer, {childList: true});\n",
              "}}\n",
              "\n",
              "// Listen for the clearing of the current output cell\n",
              "var outputEl = gd.closest('.output');\n",
              "if (outputEl) {{\n",
              "    x.observe(outputEl, {childList: true});\n",
              "}}\n",
              "\n",
              "                        })                };                            </script>        </div>\n",
              "</body>\n",
              "</html>"
            ]
          },
          "metadata": {}
        }
      ]
    },
    {
      "cell_type": "code",
      "source": [
        "import pandas as pd\n",
        "\n",
        "# Read the CSV file into a DataFrame\n",
        "df = pd.read_csv('spotify-2023.csv', encoding='latin-1')\n",
        "\n",
        "# Sort the DataFrame based on the \"track_name\" column\n",
        "df_sorted = df.sort_values(by='in_spotify_charts')\n",
        "\n",
        "# Print the values from the \"in_spotify_charts\" column in the sorted order\n",
        "print(df_sorted[['track_name','in_spotify_charts']])"
      ],
      "metadata": {
        "colab": {
          "base_uri": "https://localhost:8080/"
        },
        "id": "8uilM9PU82cj",
        "outputId": "fc0f42bc-6078-4e0a-b91a-e700e54eaca5"
      },
      "execution_count": 27,
      "outputs": [
        {
          "output_type": "stream",
          "name": "stdout",
          "text": [
            "                                            track_name  in_spotify_charts\n",
            "476  It's Beginning to Look a Lot Like Christmas (w...                  0\n",
            "305                                              HAPPY                  0\n",
            "304                                    SORRY NOT SORRY                  0\n",
            "567                                        TO THE MOON                  0\n",
            "302                                           DOGTOOTH                  0\n",
            "..                                                 ...                ...\n",
            "22                                    I Wanna Be Yours                110\n",
            "2                                              vampire                113\n",
            "12                                             Flowers                115\n",
            "14                                           As It Was                130\n",
            "0                  Seven (feat. Latto) (Explicit Ver.)                147\n",
            "\n",
            "[953 rows x 2 columns]\n"
          ]
        }
      ]
    }
  ]
}